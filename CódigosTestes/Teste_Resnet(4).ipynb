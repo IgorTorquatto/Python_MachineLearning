{
  "nbformat": 4,
  "nbformat_minor": 0,
  "metadata": {
    "colab": {
      "provenance": []
    },
    "kernelspec": {
      "name": "python3",
      "display_name": "Python 3"
    },
    "language_info": {
      "name": "python"
    }
  },
  "cells": [
    {
      "cell_type": "code",
      "execution_count": 1,
      "metadata": {
        "id": "Gp0gEduVL3Gj"
      },
      "outputs": [],
      "source": [
        "import os\n",
        "import numpy as np\n",
        "import tensorflow as tf\n",
        "from tensorflow import keras\n",
        "from keras.applications import ResNet50\n",
        "from keras.layers import GlobalAveragePooling2D, Dense, BatchNormalization, Dropout\n",
        "from keras.preprocessing.image import ImageDataGenerator\n",
        "from sklearn.metrics import classification_report\n",
        "import cv2"
      ]
    },
    {
      "cell_type": "code",
      "source": [
        "from google.colab import drive\n",
        "drive.mount('/content/drive')\n",
        "\n",
        "train_dir = \"/content/drive/MyDrive/Projeto_Pneumonia/chest_xray/train\"\n",
        "test_dir = \"/content/drive/MyDrive/Projeto_Pneumonia/chest_xray/test\"\n",
        "val_dir = \"/content/drive/MyDrive/Projeto_Pneumonia/chest_xray/val\""
      ],
      "metadata": {
        "colab": {
          "base_uri": "https://localhost:8080/"
        },
        "id": "teBqfU2CL8yk",
        "outputId": "c67b6778-b1e4-4dcf-a697-b75f8622f952"
      },
      "execution_count": 2,
      "outputs": [
        {
          "output_type": "stream",
          "name": "stdout",
          "text": [
            "Mounted at /content/drive\n"
          ]
        }
      ]
    },
    {
      "cell_type": "code",
      "source": [
        "def apply_gaussian_smoothing(image):\n",
        "    return cv2.GaussianBlur(image, (5, 5), 0)"
      ],
      "metadata": {
        "id": "nHAFHD7glShz"
      },
      "execution_count": 3,
      "outputs": []
    },
    {
      "cell_type": "code",
      "source": [
        "#Gerador de imagens pré-processamento\n",
        "image_generator = ImageDataGenerator(\n",
        "    rotation_range=20,\n",
        "    width_shift_range=0.1,\n",
        "    shear_range=0.1,\n",
        "    zoom_range=0.1,\n",
        "    samplewise_center=True,\n",
        "    samplewise_std_normalization=True,\n",
        "    preprocessing_function=apply_gaussian_smoothing\n",
        ")"
      ],
      "metadata": {
        "id": "MU635dybMIGU"
      },
      "execution_count": 4,
      "outputs": []
    },
    {
      "cell_type": "code",
      "source": [
        "#Gerador dados treinamento e validação\n",
        "train_generator = image_generator.flow_from_directory(\n",
        "    train_dir,\n",
        "    batch_size=8,\n",
        "    shuffle=True,\n",
        "    class_mode='binary',\n",
        "    target_size=(180, 180)\n",
        ")\n",
        "\n",
        "validation_generator = image_generator.flow_from_directory(\n",
        "    val_dir,\n",
        "    batch_size=1,\n",
        "    shuffle=False,\n",
        "    class_mode='binary',\n",
        "    target_size=(180, 180)\n",
        ")\n"
      ],
      "metadata": {
        "colab": {
          "base_uri": "https://localhost:8080/"
        },
        "id": "eYKyaVmHMXbp",
        "outputId": "f8fff1c5-4629-43b1-da21-a6cd11eaa3c5"
      },
      "execution_count": 5,
      "outputs": [
        {
          "output_type": "stream",
          "name": "stdout",
          "text": [
            "Found 5218 images belonging to 2 classes.\n",
            "Found 16 images belonging to 2 classes.\n"
          ]
        }
      ]
    },
    {
      "cell_type": "code",
      "source": [
        "#Resnet\n",
        "resnet_base_model = ResNet50(\n",
        "    input_shape=(180, 180, 3),\n",
        "    include_top=False,\n",
        "    weights='imagenet'\n",
        ")"
      ],
      "metadata": {
        "colab": {
          "base_uri": "https://localhost:8080/"
        },
        "id": "v2N_0oaYMu3v",
        "outputId": "61ab4f68-ff56-4c8d-e018-11713cd68e62"
      },
      "execution_count": 6,
      "outputs": [
        {
          "output_type": "stream",
          "name": "stdout",
          "text": [
            "Downloading data from https://storage.googleapis.com/tensorflow/keras-applications/resnet/resnet50_weights_tf_dim_ordering_tf_kernels_notop.h5\n",
            "94765736/94765736 [==============================] - 3s 0us/step\n"
          ]
        }
      ]
    },
    {
      "cell_type": "code",
      "source": [
        "#Camadas personalizadas\n",
        "resnet_model = tf.keras.Sequential([\n",
        "    resnet_base_model,\n",
        "    GlobalAveragePooling2D(),\n",
        "    Dense(512, activation=\"relu\"),\n",
        "    BatchNormalization(),\n",
        "    Dropout(0.6),\n",
        "    Dense(128, activation=\"relu\"),\n",
        "    BatchNormalization(),\n",
        "    Dropout(0.4),\n",
        "    Dense(64, activation=\"relu\"),\n",
        "    BatchNormalization(),\n",
        "    Dropout(0.3),\n",
        "    Dense(1, activation=\"sigmoid\")\n",
        "])"
      ],
      "metadata": {
        "id": "iVYwm8qOM39p"
      },
      "execution_count": 7,
      "outputs": []
    },
    {
      "cell_type": "code",
      "source": [
        "#Compilando Resnet\n",
        "opt = tf.keras.optimizers.Adam(learning_rate=0.001)\n",
        "METRICS = [\n",
        "    'accuracy',\n",
        "    tf.keras.metrics.Precision(name='precision'),\n",
        "    tf.keras.metrics.Recall(name='recall'),\n",
        "]\n",
        "resnet_model.compile(optimizer=opt, loss='binary_crossentropy', metrics=METRICS)"
      ],
      "metadata": {
        "id": "MH9tTsgANDbf"
      },
      "execution_count": 8,
      "outputs": []
    },
    {
      "cell_type": "code",
      "source": [
        "# Treinando modelo\n",
        "\n",
        "# Calcular o peso das classes com base na contagem\n",
        "num_normal = len(os.listdir(os.path.join(train_dir, 'NORMAL')))\n",
        "num_pneumonia = len(os.listdir(os.path.join(train_dir, 'PNEUMONIA')))\n",
        "\n",
        "weight_for_0 = num_pneumonia / (num_normal + num_pneumonia)\n",
        "weight_for_1 = num_normal / (num_normal + num_pneumonia)\n",
        "\n",
        "class_weight = {0: weight_for_0, 1: weight_for_1}\n",
        "\n",
        "history = resnet_model.fit(\n",
        "    train_generator,\n",
        "    epochs=10,\n",
        "    validation_data=validation_generator,\n",
        "    class_weight=class_weight,\n",
        "    steps_per_epoch=100,\n",
        "    validation_steps=25\n",
        ")"
      ],
      "metadata": {
        "colab": {
          "base_uri": "https://localhost:8080/"
        },
        "id": "PFC7nCbXNYKF",
        "outputId": "f576c646-bb64-4f66-d842-71d54f86279e"
      },
      "execution_count": 9,
      "outputs": [
        {
          "output_type": "stream",
          "name": "stdout",
          "text": [
            "Epoch 1/10\n",
            "100/100 [==============================] - ETA: 0s - loss: 0.2413 - accuracy: 0.6712 - precision: 0.8865 - recall: 0.6356"
          ]
        },
        {
          "output_type": "stream",
          "name": "stderr",
          "text": [
            "WARNING:tensorflow:Your input ran out of data; interrupting training. Make sure that your dataset or generator can generate at least `steps_per_epoch * epochs` batches (in this case, 25 batches). You may need to use the repeat() function when building your dataset.\n"
          ]
        },
        {
          "output_type": "stream",
          "name": "stdout",
          "text": [
            "\b\b\b\b\b\b\b\b\b\b\b\b\b\b\b\b\b\b\b\b\b\b\b\b\b\b\b\b\b\b\b\b\b\b\b\b\b\b\b\b\b\b\b\b\b\b\b\b\b\b\b\b\b\b\b\b\b\b\b\b\b\b\b\b\b\b\b\b\b\b\b\b\b\b\b\b\b\b\b\b\b\b\b\b\b\b\b\b\b\b\b\b\b\b\b\b\b\b\b\b\b\b\b\b\b\b\b\b\b\b\b\b\b\b\b\b\b\b\b\b\b\r100/100 [==============================] - 569s 5s/step - loss: 0.2413 - accuracy: 0.6712 - precision: 0.8865 - recall: 0.6356 - val_loss: 20.4267 - val_accuracy: 0.5000 - val_precision: 0.0000e+00 - val_recall: 0.0000e+00\n",
            "Epoch 2/10\n",
            "100/100 [==============================] - 504s 5s/step - loss: 0.2219 - accuracy: 0.7225 - precision: 0.8977 - recall: 0.7076\n",
            "Epoch 3/10\n",
            "100/100 [==============================] - 505s 5s/step - loss: 0.2862 - accuracy: 0.6775 - precision: 0.8387 - recall: 0.7003\n",
            "Epoch 4/10\n",
            "100/100 [==============================] - 512s 5s/step - loss: 0.2919 - accuracy: 0.5987 - precision: 0.7932 - recall: 0.6277\n",
            "Epoch 5/10\n",
            "100/100 [==============================] - 508s 5s/step - loss: 0.2664 - accuracy: 0.6000 - precision: 0.8161 - recall: 0.5966\n",
            "Epoch 6/10\n",
            "100/100 [==============================] - 503s 5s/step - loss: 0.2617 - accuracy: 0.6625 - precision: 0.8348 - recall: 0.6626\n",
            "Epoch 7/10\n",
            "100/100 [==============================] - 497s 5s/step - loss: 0.2251 - accuracy: 0.7038 - precision: 0.8886 - recall: 0.6863\n",
            "Epoch 8/10\n",
            "100/100 [==============================] - 490s 5s/step - loss: 0.2055 - accuracy: 0.7305 - precision: 0.8979 - recall: 0.7177\n",
            "Epoch 9/10\n",
            "100/100 [==============================] - 489s 5s/step - loss: 0.1896 - accuracy: 0.7538 - precision: 0.9224 - recall: 0.7267\n",
            "Epoch 10/10\n",
            "100/100 [==============================] - 487s 5s/step - loss: 0.1757 - accuracy: 0.7950 - precision: 0.9253 - recall: 0.7829\n"
          ]
        }
      ]
    },
    {
      "cell_type": "code",
      "source": [
        "# Métricas para treinamento\n",
        "train_metrics = resnet_model.evaluate(train_generator, steps=len(train_generator))\n",
        "train_loss, train_accuracy, train_precision, train_recall = train_metrics\n",
        "\n",
        "# Métricas para validação\n",
        "val_metrics = resnet_model.evaluate(validation_generator, steps=len(validation_generator))\n",
        "val_loss, val_accuracy, val_precision, val_recall = val_metrics\n",
        "\n",
        "# Calcular F1 Score manualmente para treinamento\n",
        "f1_train = 2 * (train_precision * train_recall) / (train_precision + train_recall)\n",
        "\n",
        "# Calcular F1 Score manualmente para validação\n",
        "f1_val = 2 * (val_precision * val_recall) / (val_precision + val_recall)\n",
        "\n",
        "# Exibir métricas\n",
        "print(\"Métricas de Treinamento:\")\n",
        "print(f\"Loss: {train_loss:.4f}\")\n",
        "print(f\"Acurácia: {train_accuracy * 100:.2f}%\")\n",
        "print(f\"Precisão: {train_precision * 100:.2f}%\")\n",
        "print(f\"Recall: {train_recall * 100:.2f}%\")\n",
        "print(f\"F1 Score (Treinamento): {f1_train * 100:.2f}%\")\n",
        "\n",
        "print(\"\\nMétricas de Validação:\")\n",
        "print(f\"Loss: {val_loss:.4f}\")\n",
        "print(f\"Acurácia: {val_accuracy * 100:.2f}%\")\n",
        "print(f\"Precisão: {val_precision * 100:.2f}%\")\n",
        "print(f\"Recall: {val_recall * 100:.2f}%\")\n",
        "print(f\"F1 Score (Validação): {f1_val * 100:.2f}%\")\n"
      ],
      "metadata": {
        "colab": {
          "base_uri": "https://localhost:8080/"
        },
        "id": "nHWOwS6lNcfr",
        "outputId": "8ed60e2d-8ef7-4699-c105-dcc59c7c68c3"
      },
      "execution_count": 10,
      "outputs": [
        {
          "output_type": "stream",
          "name": "stdout",
          "text": [
            "653/653 [==============================] - 819s 1s/step - loss: 0.2918 - accuracy: 0.8802 - precision: 0.9075 - recall: 0.9340\n",
            "16/16 [==============================] - 4s 219ms/step - loss: 1.0150 - accuracy: 0.6250 - precision: 0.5714 - recall: 1.0000\n",
            "Métricas de Treinamento:\n",
            "Loss: 0.2918\n",
            "Acurácia: 88.02%\n",
            "Precisão: 90.75%\n",
            "Recall: 93.40%\n",
            "F1 Score (Treinamento): 92.06%\n",
            "\n",
            "Métricas de Validação:\n",
            "Loss: 1.0150\n",
            "Acurácia: 62.50%\n",
            "Precisão: 57.14%\n",
            "Recall: 100.00%\n",
            "F1 Score (Validação): 72.73%\n"
          ]
        }
      ]
    }
  ]
}