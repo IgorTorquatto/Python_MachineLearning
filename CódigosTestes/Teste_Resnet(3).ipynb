{
  "nbformat": 4,
  "nbformat_minor": 0,
  "metadata": {
    "colab": {
      "provenance": []
    },
    "kernelspec": {
      "name": "python3",
      "display_name": "Python 3"
    },
    "language_info": {
      "name": "python"
    }
  },
  "cells": [
    {
      "cell_type": "code",
      "execution_count": 1,
      "metadata": {
        "id": "Gp0gEduVL3Gj"
      },
      "outputs": [],
      "source": [
        "import os\n",
        "import numpy as np\n",
        "import tensorflow as tf\n",
        "from tensorflow import keras\n",
        "from keras.applications import ResNet50\n",
        "from keras.layers import GlobalAveragePooling2D, Dense, BatchNormalization, Dropout\n",
        "from keras.preprocessing.image import ImageDataGenerator\n",
        "from sklearn.metrics import classification_report"
      ]
    },
    {
      "cell_type": "code",
      "source": [
        "from google.colab import drive\n",
        "drive.mount('/content/drive')\n",
        "\n",
        "train_dir = \"/content/drive/MyDrive/Projeto_Pneumonia/chest_xray/train\"\n",
        "test_dir = \"/content/drive/MyDrive/Projeto_Pneumonia/chest_xray/test\"\n",
        "val_dir = \"/content/drive/MyDrive/Projeto_Pneumonia/chest_xray/val\""
      ],
      "metadata": {
        "colab": {
          "base_uri": "https://localhost:8080/"
        },
        "id": "teBqfU2CL8yk",
        "outputId": "41f4301e-2bf6-4054-9fc8-1a45ad4be25f"
      },
      "execution_count": 2,
      "outputs": [
        {
          "output_type": "stream",
          "name": "stdout",
          "text": [
            "Mounted at /content/drive\n"
          ]
        }
      ]
    },
    {
      "cell_type": "code",
      "source": [
        "#Gerador de imagens pré-processamento\n",
        "image_generator = ImageDataGenerator(\n",
        "    rotation_range=20,\n",
        "    width_shift_range=0.1,\n",
        "    shear_range=0.1,\n",
        "    zoom_range=0.1,\n",
        "    samplewise_center=True,\n",
        "    samplewise_std_normalization=True\n",
        ")"
      ],
      "metadata": {
        "id": "MU635dybMIGU"
      },
      "execution_count": 3,
      "outputs": []
    },
    {
      "cell_type": "code",
      "source": [
        "#Gerador dados treinamento e validação\n",
        "train_generator = image_generator.flow_from_directory(\n",
        "    train_dir,\n",
        "    batch_size=8,\n",
        "    shuffle=True,\n",
        "    class_mode='binary',\n",
        "    target_size=(180, 180)\n",
        ")\n",
        "\n",
        "validation_generator = image_generator.flow_from_directory(\n",
        "    val_dir,\n",
        "    batch_size=1,\n",
        "    shuffle=False,\n",
        "    class_mode='binary',\n",
        "    target_size=(180, 180)\n",
        ")\n"
      ],
      "metadata": {
        "colab": {
          "base_uri": "https://localhost:8080/"
        },
        "id": "eYKyaVmHMXbp",
        "outputId": "9f543b4a-233f-4224-b680-f64ff5fc1b94"
      },
      "execution_count": 4,
      "outputs": [
        {
          "output_type": "stream",
          "name": "stdout",
          "text": [
            "Found 5218 images belonging to 2 classes.\n",
            "Found 16 images belonging to 2 classes.\n"
          ]
        }
      ]
    },
    {
      "cell_type": "code",
      "source": [
        "#Resnet\n",
        "resnet_base_model = ResNet50(\n",
        "    input_shape=(180, 180, 3),\n",
        "    include_top=False,\n",
        "    weights='imagenet'\n",
        ")"
      ],
      "metadata": {
        "colab": {
          "base_uri": "https://localhost:8080/"
        },
        "id": "v2N_0oaYMu3v",
        "outputId": "667c8c59-73a3-4a45-9705-47b9b78f334d"
      },
      "execution_count": 5,
      "outputs": [
        {
          "output_type": "stream",
          "name": "stdout",
          "text": [
            "Downloading data from https://storage.googleapis.com/tensorflow/keras-applications/resnet/resnet50_weights_tf_dim_ordering_tf_kernels_notop.h5\n",
            "94765736/94765736 [==============================] - 1s 0us/step\n"
          ]
        }
      ]
    },
    {
      "cell_type": "code",
      "source": [
        "#Camadas personalizadas\n",
        "resnet_model = tf.keras.Sequential([\n",
        "    resnet_base_model,\n",
        "    GlobalAveragePooling2D(),\n",
        "    Dense(512, activation=\"relu\"),\n",
        "    BatchNormalization(),\n",
        "    Dropout(0.6),\n",
        "    Dense(128, activation=\"relu\"),\n",
        "    BatchNormalization(),\n",
        "    Dropout(0.4),\n",
        "    Dense(64, activation=\"relu\"),\n",
        "    BatchNormalization(),\n",
        "    Dropout(0.3),\n",
        "    Dense(1, activation=\"sigmoid\")\n",
        "])"
      ],
      "metadata": {
        "id": "iVYwm8qOM39p"
      },
      "execution_count": 6,
      "outputs": []
    },
    {
      "cell_type": "code",
      "source": [
        "#Compilando Resnet\n",
        "opt = tf.keras.optimizers.Adam(learning_rate=0.001)\n",
        "METRICS = [\n",
        "    'accuracy',\n",
        "    tf.keras.metrics.Precision(name='precision'),\n",
        "    tf.keras.metrics.Recall(name='recall'),\n",
        "]\n",
        "resnet_model.compile(optimizer=opt, loss='binary_crossentropy', metrics=METRICS)"
      ],
      "metadata": {
        "id": "MH9tTsgANDbf"
      },
      "execution_count": 7,
      "outputs": []
    },
    {
      "cell_type": "code",
      "source": [
        "# Treinando modelo\n",
        "\n",
        "# Calcular o peso das classes com base na contagem\n",
        "num_normal = len(os.listdir(os.path.join(train_dir, 'NORMAL')))\n",
        "num_pneumonia = len(os.listdir(os.path.join(train_dir, 'PNEUMONIA')))\n",
        "\n",
        "weight_for_0 = num_pneumonia / (num_normal + num_pneumonia)\n",
        "weight_for_1 = num_normal / (num_normal + num_pneumonia)\n",
        "\n",
        "class_weight = {0: weight_for_0, 1: weight_for_1}\n",
        "\n",
        "history = resnet_model.fit(\n",
        "    train_generator,\n",
        "    epochs=15,\n",
        "    validation_data=validation_generator,\n",
        "    class_weight=class_weight,\n",
        "    steps_per_epoch=100,\n",
        "    validation_steps=25\n",
        ")"
      ],
      "metadata": {
        "colab": {
          "base_uri": "https://localhost:8080/"
        },
        "id": "PFC7nCbXNYKF",
        "outputId": "8c0977fc-1574-40fa-e9c0-8348fd2acc84"
      },
      "execution_count": 8,
      "outputs": [
        {
          "output_type": "stream",
          "name": "stdout",
          "text": [
            "Epoch 1/15\n",
            "100/100 [==============================] - ETA: 0s - loss: 0.2812 - accuracy: 0.6175 - precision: 0.8541 - recall: 0.5980"
          ]
        },
        {
          "output_type": "stream",
          "name": "stderr",
          "text": [
            "WARNING:tensorflow:Your input ran out of data; interrupting training. Make sure that your dataset or generator can generate at least `steps_per_epoch * epochs` batches (in this case, 25 batches). You may need to use the repeat() function when building your dataset.\n"
          ]
        },
        {
          "output_type": "stream",
          "name": "stdout",
          "text": [
            "\b\b\b\b\b\b\b\b\b\b\b\b\b\b\b\b\b\b\b\b\b\b\b\b\b\b\b\b\b\b\b\b\b\b\b\b\b\b\b\b\b\b\b\b\b\b\b\b\b\b\b\b\b\b\b\b\b\b\b\b\b\b\b\b\b\b\b\b\b\b\b\b\b\b\b\b\b\b\b\b\b\b\b\b\b\b\b\b\b\b\b\b\b\b\b\b\b\b\b\b\b\b\b\b\b\b\b\b\b\b\b\b\b\b\b\b\b\b\b\b\b\r100/100 [==============================] - 592s 6s/step - loss: 0.2812 - accuracy: 0.6175 - precision: 0.8541 - recall: 0.5980 - val_loss: 4105.1299 - val_accuracy: 0.5000 - val_precision: 0.0000e+00 - val_recall: 0.0000e+00\n",
            "Epoch 2/15\n",
            "100/100 [==============================] - 525s 5s/step - loss: 0.2688 - accuracy: 0.6550 - precision: 0.8455 - recall: 0.6414\n",
            "Epoch 3/15\n",
            "100/100 [==============================] - 518s 5s/step - loss: 0.2711 - accuracy: 0.6363 - precision: 0.8588 - recall: 0.6221\n",
            "Epoch 4/15\n",
            "100/100 [==============================] - 517s 5s/step - loss: 0.2936 - accuracy: 0.5642 - precision: 0.7934 - recall: 0.5889\n",
            "Epoch 5/15\n",
            "100/100 [==============================] - 519s 5s/step - loss: 0.3253 - accuracy: 0.5365 - precision: 0.7242 - recall: 0.5687\n",
            "Epoch 6/15\n",
            "100/100 [==============================] - 527s 5s/step - loss: 0.2816 - accuracy: 0.5163 - precision: 0.7781 - recall: 0.5041\n",
            "Epoch 7/15\n",
            "100/100 [==============================] - 528s 5s/step - loss: 0.2517 - accuracy: 0.6087 - precision: 0.8586 - recall: 0.5642\n",
            "Epoch 8/15\n",
            "100/100 [==============================] - 527s 5s/step - loss: 0.2472 - accuracy: 0.6250 - precision: 0.8543 - recall: 0.5894\n",
            "Epoch 9/15\n",
            "100/100 [==============================] - 522s 5s/step - loss: 0.2697 - accuracy: 0.5900 - precision: 0.8217 - recall: 0.5731\n",
            "Epoch 10/15\n",
            "100/100 [==============================] - 517s 5s/step - loss: 0.2655 - accuracy: 0.5932 - precision: 0.8189 - recall: 0.5690\n",
            "Epoch 11/15\n",
            "100/100 [==============================] - 519s 5s/step - loss: 0.2657 - accuracy: 0.5487 - precision: 0.8005 - recall: 0.5450\n",
            "Epoch 12/15\n",
            "100/100 [==============================] - 523s 5s/step - loss: 0.2686 - accuracy: 0.5675 - precision: 0.7891 - recall: 0.5790\n",
            "Epoch 13/15\n",
            "100/100 [==============================] - 525s 5s/step - loss: 0.2605 - accuracy: 0.5612 - precision: 0.8114 - recall: 0.5432\n",
            "Epoch 14/15\n",
            "100/100 [==============================] - 516s 5s/step - loss: 0.2298 - accuracy: 0.6525 - precision: 0.8843 - recall: 0.6147\n",
            "Epoch 15/15\n",
            "100/100 [==============================] - 513s 5s/step - loss: 0.2163 - accuracy: 0.6877 - precision: 0.8929 - recall: 0.6610\n"
          ]
        }
      ]
    },
    {
      "cell_type": "code",
      "source": [
        "# Métricas para treinamento\n",
        "train_metrics = resnet_model.evaluate(train_generator, steps=len(train_generator))\n",
        "train_loss, train_accuracy, train_precision, train_recall = train_metrics\n",
        "\n",
        "# Métricas para validação\n",
        "val_metrics = resnet_model.evaluate(validation_generator, steps=len(validation_generator))\n",
        "val_loss, val_accuracy, val_precision, val_recall = val_metrics\n",
        "\n",
        "# Calcular F1 Score manualmente para treinamento\n",
        "f1_train = 2 * (train_precision * train_recall) / (train_precision + train_recall)\n",
        "\n",
        "# Calcular F1 Score manualmente para validação\n",
        "f1_val = 2 * (val_precision * val_recall) / (val_precision + val_recall)\n",
        "\n",
        "# Exibir métricas\n",
        "print(\"Métricas de Treinamento:\")\n",
        "print(f\"Loss: {train_loss:.4f}\")\n",
        "print(f\"Acurácia: {train_accuracy * 100:.2f}%\")\n",
        "print(f\"Precisão: {train_precision * 100:.2f}%\")\n",
        "print(f\"Recall: {train_recall * 100:.2f}%\")\n",
        "print(f\"F1 Score (Treinamento): {f1_train * 100:.2f}%\")\n",
        "\n",
        "print(\"\\nMétricas de Validação:\")\n",
        "print(f\"Loss: {val_loss:.4f}\")\n",
        "print(f\"Acurácia: {val_accuracy * 100:.2f}%\")\n",
        "print(f\"Precisão: {val_precision * 100:.2f}%\")\n",
        "print(f\"Recall: {val_recall * 100:.2f}%\")\n",
        "print(f\"F1 Score (Validação): {f1_val * 100:.2f}%\")"
      ],
      "metadata": {
        "colab": {
          "base_uri": "https://localhost:8080/"
        },
        "id": "nHWOwS6lNcfr",
        "outputId": "21cd7c6e-9047-4635-e530-55a50f6af0ee"
      },
      "execution_count": 9,
      "outputs": [
        {
          "output_type": "stream",
          "name": "stdout",
          "text": [
            "653/653 [==============================] - 791s 1s/step - loss: 0.4361 - accuracy: 0.7988 - precision: 0.9259 - recall: 0.7926\n",
            "16/16 [==============================] - 3s 190ms/step - loss: 1.4542 - accuracy: 0.5000 - precision: 0.5000 - recall: 0.6250\n",
            "Métricas de Treinamento:\n",
            "Loss: 0.4361\n",
            "Acurácia: 79.88%\n",
            "Precisão: 92.59%\n",
            "Recall: 79.26%\n",
            "F1 Score (Treinamento): 85.41%\n",
            "\n",
            "Métricas de Validação:\n",
            "Loss: 1.4542\n",
            "Acurácia: 50.00%\n",
            "Precisão: 50.00%\n",
            "Recall: 62.50%\n",
            "F1 Score (Validação): 55.56%\n"
          ]
        }
      ]
    }
  ]
}