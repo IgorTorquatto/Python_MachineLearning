{
 "cells": [
  {
   "cell_type": "code",
   "execution_count": 2,
   "metadata": {},
   "outputs": [],
   "source": [
    "import matplotlib.pyplot as plt\n",
    "import numpy as np\n",
    "import pandas as pd\n",
    "import tensorflow as tf\n",
    "from tensorflow import keras"
   ]
  },
  {
   "cell_type": "code",
   "execution_count": 3,
   "metadata": {},
   "outputs": [],
   "source": [
    "path_original = \"../datasets/MINI-DDSM-Complete-JPEG-8/DataWMask.xlsx\"\n",
    "path = \"../datasets/MINI-DDSM-Complete-JPEG-8/DataWMask2.xlsx\"\n",
    "path_images = \"../datasets/MINI-DDSM-Complete-JPEG-8/\"\n"
   ]
  },
  {
   "cell_type": "code",
   "execution_count": 4,
   "metadata": {},
   "outputs": [],
   "source": [
    "# # Define the path to the xlsx file\n",
    "\n",
    "\n",
    "# # Read the xlsx file into a Pandas DataFrame\n",
    "# df = pd.read_excel(path_original)\n",
    "\n",
    "# # Drop the rows where Tumour_Contour is null or has only one \"-\"\n",
    "# df = df.dropna(subset=[\"Tumour_Contour\"])\n",
    "# df = df[df[\"Tumour_Contour\"] != \"-\"]\n",
    "\n",
    "# # Write the updated DataFrame back to the xlsx file\n",
    "# df.to_excel(path, index=False)\n"
   ]
  },
  {
   "cell_type": "code",
   "execution_count": 5,
   "metadata": {},
   "outputs": [],
   "source": [
    "import cv2\n",
    "import pandas as pd\n",
    "import numpy as np\n",
    "\n",
    "\n",
    "# Define the path to the xlsx file\n",
    "# Read the xlsx file into a Pandas DataFrame\n",
    "df = pd.read_excel(path)\n",
    "\n",
    "# Create two empty lists to hold the images and masks\n",
    "images = []\n",
    "masks = []\n",
    "labels = []\n",
    "\n",
    "# redimensionamento das imagens:\n",
    "nova_largura = 1336 /2\n",
    "nova_altura = 2324 /2\n",
    "\n",
    "#df.shape retorna o numero de linhas e colunas, o primeiro [0] é o número de linhas \n",
    "#logo divide o número de linhas por 2 (div inteira)\n",
    "half_rows = df.shape[0] // 2\n",
    "\n",
    "#reatribui df para conter apenas a metade das linhas do DataFrame original\n",
    "df = df.iloc[:half_rows]\n",
    "\n",
    "# Loop over the rows of the DataFrame\n",
    "for index, row in df.iterrows():\n",
    "    # Get the filename of the image and the mask\n",
    "    image_filename = path_images + row[\"fullPath\"]\n",
    "    mask_filename = path_images + row[\"Tumour_Contour\"]\n",
    "    \n",
    "    # Read the image and the mask\n",
    "\n",
    "    image = cv2.imread(image_filename)\n",
    "    mask = cv2.imread(mask_filename)\n",
    "    image = cv2.resize(image, (nova_largura, nova_altura))\n",
    "    mask = cv2.resize(mask, (nova_largura, nova_altura))\n",
    "    image = image / 255.0\n",
    "    mask = mask / 255.0\n",
    "    \n",
    "    # Add the image and mask to their respective lists\n",
    "    \n",
    "        # Processar a imagem e adicionar ao array\n",
    "    images.append(image)\n",
    "    masks.append(mask)\n",
    "    labels.append(row['Status'])\n",
    "    \n",
    "\n",
    "# Convert the lists to numpy arrays\n",
    "# images = np.array(images)\n",
    "# masks = np.array(masks)\n",
    " \n",
    "\n"
   ]
  },
  {
   "cell_type": "code",
   "execution_count": null,
   "metadata": {},
   "outputs": [],
   "source": []
  },
  {
   "cell_type": "code",
   "execution_count": 7,
   "metadata": {},
   "outputs": [
    {
     "ename": "MemoryError",
     "evalue": "Unable to allocate 15.2 GiB for an array with shape (1415, 600, 800, 3) and data type float64",
     "output_type": "error",
     "traceback": [
      "\u001b[1;31m---------------------------------------------------------------------------\u001b[0m",
      "\u001b[1;31mMemoryError\u001b[0m                               Traceback (most recent call last)",
      "Cell \u001b[1;32mIn[7], line 1\u001b[0m\n\u001b[1;32m----> 1\u001b[0m images_array \u001b[39m=\u001b[39m np\u001b[39m.\u001b[39;49marray(images)\n\u001b[0;32m      2\u001b[0m masks_array \u001b[39m=\u001b[39m np\u001b[39m.\u001b[39marray(masks)\n\u001b[0;32m      3\u001b[0m labels_array \u001b[39m=\u001b[39m np\u001b[39m.\u001b[39marray(labels)\n",
      "\u001b[1;31mMemoryError\u001b[0m: Unable to allocate 15.2 GiB for an array with shape (1415, 600, 800, 3) and data type float64"
     ]
    }
   ],
   "source": [
    "images_array = np.array(images)\n",
    "masks_array = np.array(masks)\n",
    "labels_array = np.array(labels)"
   ]
  },
  {
   "cell_type": "code",
   "execution_count": null,
   "metadata": {},
   "outputs": [],
   "source": [
    "from sklearn.model_selection import train_test_split\n",
    "\n",
    "#train_test_slipt: dividir um conjunto de dados em dois subconjuntos: um para treinamento e outro para teste.\n",
    "\n",
    "train_images, test_images, train_masks, test_masks, train_labels, test_labels = train_test_split(\n",
    "    images_array, masks_array, labels_array, test_size=0.2, random_state=42\n",
    ")\n",
    "# 20% dos dados serão reservados para o conjunto de teste\n",
    "#  80% restantes serão usados para o conjunto de treinamento.\n",
    "#random_state :"
   ]
  },
  {
   "cell_type": "code",
   "execution_count": null,
   "metadata": {},
   "outputs": [],
   "source": [
    "num_classes = 3\n",
    "\n",
    "# Construindo o modelo CNN\n",
    "model = keras.Sequential([\n",
    "    keras.layers.Conv2D(32, (3, 3), activation='relu', input_shape=(nova_altura, nova_largura, 3)),\n",
    "    keras.layers.MaxPooling2D((2, 2)),\n",
    "    keras.layers.Conv2D(64, (3, 3), activation='relu'),\n",
    "    keras.layers.MaxPooling2D((2, 2)),\n",
    "    keras.layers.Flatten(),\n",
    "    keras.layers.Dense(128, activation='relu'),\n",
    "    keras.layers.Dense(num_classes, activation='softmax')\n",
    "])"
   ]
  },
  {
   "cell_type": "code",
   "execution_count": null,
   "metadata": {},
   "outputs": [],
   "source": [
    "# Treinamento do modelo\n",
    "model.fit(train_images, train_labels, epochs=10, validation_data=(test_images, test_labels))\n",
    "\n",
    "# Avaliação do modelo\n",
    "test_loss, test_acc = model.evaluate(test_images, test_labels)\n",
    "print(f\"Acurácia do teste: {test_acc}\")"
   ]
  },
  {
   "cell_type": "code",
   "execution_count": 9,
   "metadata": {},
   "outputs": [
    {
     "data": {
      "image/png": "[encoded data removed]",
      "text/plain": [
       "<Figure size 640x480 with 2 Axes>"
      ]
     },
     "metadata": {},
     "output_type": "display_data"
    }
   ],
   "source": [
    "plt.imshow(masks[0], cmap='gray')  # cmap='gray' exibe a imagem em escala de cinza\n",
    "plt.title('Imagem de Exemplo')\n",
    "plt.colorbar()  # Adiciona uma barra de cores para referência\n",
    "plt.show()"
   ]
  },
  {
   "cell_type": "code",
   "execution_count": null,
   "metadata": {},
   "outputs": [],
   "source": []
  }
 ],
 "metadata": {
  "kernelspec": {
   "display_name": "Python 3 (ipykernel)",
   "language": "python",
   "name": "python3"
  },
  "language_info": {
   "codemirror_mode": {
    "name": "ipython",
    "version": 3
   },
   "file_extension": ".py",
   "mimetype": "text/x-python",
   "name": "python",
   "nbconvert_exporter": "python",
   "pygments_lexer": "ipython3",
   "version": "3.11.4"
  }
 },
 "nbformat": 4,
 "nbformat_minor": 2
}
