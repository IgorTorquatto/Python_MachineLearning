{
 "cells": [
  {
   "cell_type": "code",
   "execution_count": 2,
   "id": "914d776c",
   "metadata": {},
   "outputs": [],
   "source": [
    "import tensorflow as tf"
   ]
  },
  {
   "cell_type": "code",
   "execution_count": null,
   "id": "8364efa9",
   "metadata": {},
   "outputs": [],
   "source": [
    "frase = tf.constant(\"Hello World!\")\n",
    "with tf.Session() as sess:\n",
    "    rodar = sess.run(frase)\n",
    "print(rodar)"
   ]
  },
  {
   "cell_type": "code",
   "execution_count": null,
   "id": "3348c71a",
   "metadata": {},
   "outputs": [],
   "source": []
  }
 ],
 "metadata": {
  "kernelspec": {
   "display_name": "Python 3 (ipykernel)",
   "language": "python",
   "name": "python3"
  },
  "language_info": {
   "codemirror_mode": {
    "name": "ipython",
    "version": 3
   },
   "file_extension": ".py",
   "mimetype": "text/x-python",
   "name": "python",
   "nbconvert_exporter": "python",
   "pygments_lexer": "ipython3",
   "version": "3.11.4"
  }
 },
 "nbformat": 4,
 "nbformat_minor": 5
}
