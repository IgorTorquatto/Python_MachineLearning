{
 "cells": [
  {
   "cell_type": "code",
   "execution_count": 1,
   "id": "c6ff55f7",
   "metadata": {},
   "outputs": [],
   "source": [
    "kmh=[40,50,70,90,100]"
   ]
  },
  {
   "cell_type": "code",
   "execution_count": 2,
   "id": "ef272f99",
   "metadata": {},
   "outputs": [
    {
     "name": "stdout",
     "output_type": "stream",
     "text": [
      "[24.844720496894407, 31.05590062111801, 43.47826086956521, 55.90062111801242, 62.11180124223602]\n"
     ]
    }
   ],
   "source": [
    "mph= [x/1.61 for x in kmh]\n",
    "print(mph)"
   ]
  },
  {
   "cell_type": "code",
   "execution_count": 3,
   "id": "26a1a34a",
   "metadata": {},
   "outputs": [],
   "source": [
    "caracteres =[i for i in \"Frase\"]"
   ]
  },
  {
   "cell_type": "code",
   "execution_count": 4,
   "id": "2065ef4a",
   "metadata": {},
   "outputs": [
    {
     "name": "stdout",
     "output_type": "stream",
     "text": [
      "['F', 'r', 'a', 's', 'e']\n"
     ]
    }
   ],
   "source": [
    "print(caracteres)"
   ]
  },
  {
   "cell_type": "code",
   "execution_count": null,
   "id": "6152a3cd",
   "metadata": {},
   "outputs": [],
   "source": []
  }
 ],
 "metadata": {
  "kernelspec": {
   "display_name": "Python 3 (ipykernel)",
   "language": "python",
   "name": "python3"
  },
  "language_info": {
   "codemirror_mode": {
    "name": "ipython",
    "version": 3
   },
   "file_extension": ".py",
   "mimetype": "text/x-python",
   "name": "python",
   "nbconvert_exporter": "python",
   "pygments_lexer": "ipython3",
   "version": "3.9.4"
  }
 },
 "nbformat": 4,
 "nbformat_minor": 5
}
