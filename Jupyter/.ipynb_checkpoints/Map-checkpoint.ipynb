{
 "cells": [
  {
   "cell_type": "code",
   "execution_count": 1,
   "id": "2cd9fbf8",
   "metadata": {},
   "outputs": [],
   "source": [
    "kph = [40,50,56,74,96,120,130]"
   ]
  },
  {
   "cell_type": "code",
   "execution_count": 5,
   "id": "dfd875e8",
   "metadata": {},
   "outputs": [
    {
     "name": "stdout",
     "output_type": "stream",
     "text": [
      "[24.84, 31.06, 34.78, 45.96, 59.63, 74.53, 80.75]\n"
     ]
    }
   ],
   "source": [
    "mph=[]\n",
    "for i in kph:\n",
    "    div = i /1.61\n",
    "    mph.append(round(div,2))\n",
    "print(mph)"
   ]
  },
  {
   "cell_type": "code",
   "execution_count": 9,
   "id": "a85c1880",
   "metadata": {},
   "outputs": [
    {
     "name": "stdout",
     "output_type": "stream",
     "text": [
      "[24.844720496894407, 31.05590062111801, 34.78260869565217, 45.962732919254655, 59.62732919254658, 74.53416149068323, 80.74534161490682]\n"
     ]
    }
   ],
   "source": [
    "#a função map recebe como parâmetro a função lambda que será executada e os dados que serão usados nessa função\n",
    "mph2=map(lambda x: x/1.61,kph)\n",
    "#temos que converter para algum tipo após realizar essa operação, como transformar em uma lista:\n",
    "print(list(mph2))"
   ]
  },
  {
   "cell_type": "code",
   "execution_count": null,
   "id": "2f6dea08",
   "metadata": {},
   "outputs": [],
   "source": []
  }
 ],
 "metadata": {
  "kernelspec": {
   "display_name": "Python 3 (ipykernel)",
   "language": "python",
   "name": "python3"
  },
  "language_info": {
   "codemirror_mode": {
    "name": "ipython",
    "version": 3
   },
   "file_extension": ".py",
   "mimetype": "text/x-python",
   "name": "python",
   "nbconvert_exporter": "python",
   "pygments_lexer": "ipython3",
   "version": "3.9.4"
  }
 },
 "nbformat": 4,
 "nbformat_minor": 5
}
