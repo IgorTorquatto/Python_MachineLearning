{
 "cells": [
  {
   "cell_type": "code",
   "execution_count": 1,
   "id": "8fd274bc",
   "metadata": {},
   "outputs": [
    {
     "data": {
      "text/plain": [
       "13"
      ]
     },
     "execution_count": 1,
     "metadata": {},
     "output_type": "execute_result"
    }
   ],
   "source": [
    "#função normal:\n",
    "def somarQuadrados(a,b):\n",
    "    somaTotal = a**2 + b**2\n",
    "    return somaTotal\n",
    "\n",
    "somarQuadrados(2,3)"
   ]
  },
  {
   "cell_type": "code",
   "execution_count": 4,
   "id": "31271d96",
   "metadata": {},
   "outputs": [
    {
     "data": {
      "text/plain": [
       "13"
      ]
     },
     "execution_count": 4,
     "metadata": {},
     "output_type": "execute_result"
    }
   ],
   "source": [
    "#lambda (anônima)\n",
    "#lambda par1,par2 : func\n",
    "somarQuadrados2 =lambda a,b: a**2+b**2\n",
    "somarQuadrados2(2,3)"
   ]
  },
  {
   "cell_type": "code",
   "execution_count": 5,
   "id": "a82d7a51",
   "metadata": {},
   "outputs": [
    {
     "data": {
      "text/plain": [
       "5.0"
      ]
     },
     "execution_count": 5,
     "metadata": {},
     "output_type": "execute_result"
    }
   ],
   "source": [
    "x = lambda f : f/2\n",
    "x(10)"
   ]
  },
  {
   "cell_type": "code",
   "execution_count": null,
   "id": "72ecfce2",
   "metadata": {},
   "outputs": [],
   "source": []
  }
 ],
 "metadata": {
  "kernelspec": {
   "display_name": "Python 3 (ipykernel)",
   "language": "python",
   "name": "python3"
  },
  "language_info": {
   "codemirror_mode": {
    "name": "ipython",
    "version": 3
   },
   "file_extension": ".py",
   "mimetype": "text/x-python",
   "name": "python",
   "nbconvert_exporter": "python",
   "pygments_lexer": "ipython3",
   "version": "3.9.4"
  }
 },
 "nbformat": 4,
 "nbformat_minor": 5
}
