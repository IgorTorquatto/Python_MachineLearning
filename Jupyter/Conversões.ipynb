{
 "cells": [
  {
   "cell_type": "code",
   "execution_count": 1,
   "id": "d3f621b0",
   "metadata": {},
   "outputs": [],
   "source": [
    "x = [1,2,3,4]"
   ]
  },
  {
   "cell_type": "code",
   "execution_count": 2,
   "id": "10d78a64",
   "metadata": {},
   "outputs": [
    {
     "name": "stdout",
     "output_type": "stream",
     "text": [
      "[1.0, 2.0, 3.0, 4.0]\n",
      "<class 'float'>\n"
     ]
    }
   ],
   "source": [
    "nova = []\n",
    "for i in x:\n",
    "    nova.append(float(i))\n",
    "print(nova)\n",
    "print(type(nova[0]))"
   ]
  },
  {
   "cell_type": "code",
   "execution_count": null,
   "id": "178809bf",
   "metadata": {},
   "outputs": [],
   "source": []
  }
 ],
 "metadata": {
  "kernelspec": {
   "display_name": "Python 3 (ipykernel)",
   "language": "python",
   "name": "python3"
  },
  "language_info": {
   "codemirror_mode": {
    "name": "ipython",
    "version": 3
   },
   "file_extension": ".py",
   "mimetype": "text/x-python",
   "name": "python",
   "nbconvert_exporter": "python",
   "pygments_lexer": "ipython3",
   "version": "3.9.4"
  }
 },
 "nbformat": 4,
 "nbformat_minor": 5
}
