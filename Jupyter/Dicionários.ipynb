{
 "cells": [
  {
   "cell_type": "code",
   "execution_count": 1,
   "id": "1ac56c53",
   "metadata": {},
   "outputs": [],
   "source": [
    "dicionario = { \"Curso\" : \"Python\",\n",
    "             \"Dia\": \"Sexta\",\n",
    "             \"Duração\": \"1 mês\",\n",
    "             }"
   ]
  },
  {
   "cell_type": "code",
   "execution_count": 2,
   "id": "24c4c0c8",
   "metadata": {},
   "outputs": [
    {
     "data": {
      "text/plain": [
       "'Python'"
      ]
     },
     "execution_count": 2,
     "metadata": {},
     "output_type": "execute_result"
    }
   ],
   "source": [
    "dicionario[\"Curso\"]"
   ]
  },
  {
   "cell_type": "code",
   "execution_count": 4,
   "id": "1e7b76e6",
   "metadata": {},
   "outputs": [],
   "source": [
    "a = dicionario[\"Dia\"]"
   ]
  },
  {
   "cell_type": "code",
   "execution_count": 5,
   "id": "2cf4cd96",
   "metadata": {},
   "outputs": [
    {
     "name": "stdout",
     "output_type": "stream",
     "text": [
      "Sexta\n"
     ]
    }
   ],
   "source": [
    "print(a)"
   ]
  },
  {
   "cell_type": "code",
   "execution_count": 6,
   "id": "804dd7ee",
   "metadata": {},
   "outputs": [],
   "source": [
    "dicionario[\"Dia\"] = \"Sábado\""
   ]
  },
  {
   "cell_type": "code",
   "execution_count": 7,
   "id": "c9f0a786",
   "metadata": {},
   "outputs": [
    {
     "name": "stdout",
     "output_type": "stream",
     "text": [
      "Sábado\n"
     ]
    }
   ],
   "source": [
    "print(dicionario[\"Dia\"])"
   ]
  },
  {
   "cell_type": "code",
   "execution_count": 8,
   "id": "1f6e4ba2",
   "metadata": {},
   "outputs": [],
   "source": [
    "dicionario[\"Pré-requisito\"] = \"Python Básico\"\n",
    "#adiciona chave-valor"
   ]
  },
  {
   "cell_type": "code",
   "execution_count": 9,
   "id": "c18cbaeb",
   "metadata": {},
   "outputs": [
    {
     "name": "stdout",
     "output_type": "stream",
     "text": [
      "{'Curso': 'Python', 'Dia': 'Sábado', 'Duração': '1 mês', 'Pré-requisito': 'Python Básico'}\n"
     ]
    }
   ],
   "source": [
    "print(dicionario)"
   ]
  },
  {
   "cell_type": "code",
   "execution_count": 10,
   "id": "fe4eed9e",
   "metadata": {},
   "outputs": [
    {
     "data": {
      "text/plain": [
       "dict_keys(['Curso', 'Dia', 'Duração', 'Pré-requisito'])"
      ]
     },
     "execution_count": 10,
     "metadata": {},
     "output_type": "execute_result"
    }
   ],
   "source": [
    "dicionario.keys()"
   ]
  },
  {
   "cell_type": "code",
   "execution_count": 11,
   "id": "86329537",
   "metadata": {},
   "outputs": [
    {
     "data": {
      "text/plain": [
       "dict_values(['Python', 'Sábado', '1 mês', 'Python Básico'])"
      ]
     },
     "execution_count": 11,
     "metadata": {},
     "output_type": "execute_result"
    }
   ],
   "source": [
    "dicionario.values()"
   ]
  },
  {
   "cell_type": "code",
   "execution_count": 12,
   "id": "8c9ae767",
   "metadata": {},
   "outputs": [
    {
     "data": {
      "text/plain": [
       "dict_items([('Curso', 'Python'), ('Dia', 'Sábado'), ('Duração', '1 mês'), ('Pré-requisito', 'Python Básico')])"
      ]
     },
     "execution_count": 12,
     "metadata": {},
     "output_type": "execute_result"
    }
   ],
   "source": [
    "dicionario.items()"
   ]
  }
 ],
 "metadata": {
  "kernelspec": {
   "display_name": "Python 3 (ipykernel)",
   "language": "python",
   "name": "python3"
  },
  "language_info": {
   "codemirror_mode": {
    "name": "ipython",
    "version": 3
   },
   "file_extension": ".py",
   "mimetype": "text/x-python",
   "name": "python",
   "nbconvert_exporter": "python",
   "pygments_lexer": "ipython3",
   "version": "3.9.4"
  }
 },
 "nbformat": 4,
 "nbformat_minor": 5
}
